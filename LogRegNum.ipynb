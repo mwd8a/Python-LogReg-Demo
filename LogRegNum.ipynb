{
 "cells": [
  {
   "cell_type": "markdown",
   "metadata": {},
   "source": [
    "# Binary Classifier using Logistic Regression"
   ]
  },
  {
   "cell_type": "code",
   "execution_count": 1,
   "metadata": {
    "collapsed": true
   },
   "outputs": [],
   "source": [
    "%matplotlib inline\n",
    "import numpy as np\n",
    "import matplotlib.pyplot as plt\n",
    "import matplotlib.mlab as mlab\n",
    "from sklearn import linear_model"
   ]
  },
  {
   "cell_type": "code",
   "execution_count": 2,
   "metadata": {
    "collapsed": false
   },
   "outputs": [],
   "source": [
    "data = np.loadtxt('rawData1.txt', delimiter=',')"
   ]
  },
  {
   "cell_type": "code",
   "execution_count": 3,
   "metadata": {
    "collapsed": true
   },
   "outputs": [],
   "source": [
    "#np.random.shuffle(data) # randomize the examples of data"
   ]
  },
  {
   "cell_type": "code",
   "execution_count": 4,
   "metadata": {
    "collapsed": false
   },
   "outputs": [],
   "source": [
    "[k,l] = data.shape # dimensions of data"
   ]
  },
  {
   "cell_type": "code",
   "execution_count": 5,
   "metadata": {
    "collapsed": false
   },
   "outputs": [
    {
     "name": "stdout",
     "output_type": "stream",
     "text": [
      "The data has 100 examples and 3 features.\n"
     ]
    }
   ],
   "source": [
    "print \"The data has %i examples and %i features.\" %(k,l)"
   ]
  },
  {
   "cell_type": "code",
   "execution_count": 6,
   "metadata": {
    "collapsed": false
   },
   "outputs": [
    {
     "name": "stdout",
     "output_type": "stream",
     "text": [
      "The features are 'Evaluation 1', 'Evaluation 2', 'Disease State'.\n"
     ]
    }
   ],
   "source": [
    "print \"The features are 'Evaluation 1', 'Evaluation 2', 'Disease State'.\""
   ]
  },
  {
   "cell_type": "code",
   "execution_count": 7,
   "metadata": {
    "collapsed": false
   },
   "outputs": [
    {
     "data": {
      "text/plain": [
       "array([[ 76.979,  47.576,   1.   ],\n",
       "       [ 67.372,  42.838,   0.   ],\n",
       "       [ 52.348,  60.77 ,   0.   ],\n",
       "       [ 89.677,  65.799,   1.   ],\n",
       "       [ 55.482,  35.571,   0.   ],\n",
       "       [ 88.914,  69.804,   1.   ],\n",
       "       [ 34.525,  60.396,   0.   ],\n",
       "       [ 60.183,  86.309,   1.   ],\n",
       "       [ 80.19 ,  44.822,   1.   ],\n",
       "       [ 60.458,  73.095,   1.   ]])"
      ]
     },
     "execution_count": 7,
     "metadata": {},
     "output_type": "execute_result"
    }
   ],
   "source": [
    "data[:10,:] # print data (first 10 examples only)"
   ]
  },
  {
   "cell_type": "code",
   "execution_count": 8,
   "metadata": {
    "collapsed": false
   },
   "outputs": [],
   "source": [
    "m = int(np.ceil(0.60 * k)); # m=(number of training examples)"
   ]
  },
  {
   "cell_type": "code",
   "execution_count": 9,
   "metadata": {
    "collapsed": false
   },
   "outputs": [
    {
     "name": "stdout",
     "output_type": "stream",
     "text": [
      "Training set: 60 examples (60% of the data).\n",
      "Cross Validation set: 40 examples (the other 40%).\n"
     ]
    }
   ],
   "source": [
    "print \"Training set: %i examples (60%% of the data).\" %m \n",
    "print \"Cross Validation set: %i examples (the other 40%%).\" %(k-m) "
   ]
  },
  {
   "cell_type": "code",
   "execution_count": 10,
   "metadata": {
    "collapsed": false
   },
   "outputs": [],
   "source": [
    "dataTrain = data[:m,:] # first 60 examples of data for training"
   ]
  },
  {
   "cell_type": "code",
   "execution_count": 11,
   "metadata": {
    "collapsed": false
   },
   "outputs": [],
   "source": [
    "dataCV = data[m:,:] # last 40 examples of data for cross validation"
   ]
  },
  {
   "cell_type": "code",
   "execution_count": 12,
   "metadata": {
    "collapsed": true
   },
   "outputs": [],
   "source": [
    "X = dataTrain[:, :2] # define X (training predictors)"
   ]
  },
  {
   "cell_type": "code",
   "execution_count": 13,
   "metadata": {
    "collapsed": false
   },
   "outputs": [],
   "source": [
    "y = dataTrain[:, 2] # define y (training responses)"
   ]
  },
  {
   "cell_type": "code",
   "execution_count": 14,
   "metadata": {
    "collapsed": true
   },
   "outputs": [],
   "source": [
    "Xcv = dataCV[:, :2] # define Xcv (cross validation predictors)"
   ]
  },
  {
   "cell_type": "code",
   "execution_count": 15,
   "metadata": {
    "collapsed": true
   },
   "outputs": [],
   "source": [
    "ycv = dataCV[:, 2] # define ycv (cross validation responses)"
   ]
  },
  {
   "cell_type": "code",
   "execution_count": 16,
   "metadata": {
    "collapsed": true
   },
   "outputs": [],
   "source": [
    "pos = dataTrain[y == 1]; neg = dataTrain[y == 0] # split up positive/negative training examples"
   ]
  },
  {
   "cell_type": "code",
   "execution_count": 17,
   "metadata": {
    "collapsed": true
   },
   "outputs": [],
   "source": [
    "poscv = dataCV[ycv == 1]; negcv = dataCV[ycv == 0] # split up positive/negative cross validation examples"
   ]
  },
  {
   "cell_type": "code",
   "execution_count": 18,
   "metadata": {
    "collapsed": false
   },
   "outputs": [
    {
     "name": "stdout",
     "output_type": "stream",
     "text": [
      "There are 35 positive training examples and 25 negative training examples.\n",
      "We don't have skewed classes.\n"
     ]
    }
   ],
   "source": [
    "[P, N] = [pos.shape[0] , neg.shape[0]] # number of positive and negative examples\n",
    "print \"There are %i positive training examples and %i negative training examples.\" %(P,N)\n",
    "\n",
    "if max(float(P)/m, float(N)/m) >= 0.80:\n",
    "    print \"We have skewed classes.\" \n",
    "else:\n",
    "    print \"We don't have skewed classes.\""
   ]
  },
  {
   "cell_type": "code",
   "execution_count": 19,
   "metadata": {
    "collapsed": false
   },
   "outputs": [
    {
     "data": {
      "image/png": "[encoded data removed]",
      "text/plain": [
       "<matplotlib.figure.Figure at 0x107b4c150>"
      ]
     },
     "metadata": {},
     "output_type": "display_data"
    }
   ],
   "source": [
    "# Plot the training points\n",
    "plt.figure()\n",
    "pscatt = plt.scatter(pos[:,0], pos[:,1], color = 'c', marker = 'o', edgecolors='k')\n",
    "nscatt = plt.scatter(neg[:,0], neg[:,1], color = 'm', marker = 'o', edgecolors='k')\n",
    "plt.xlabel('Evaluation 1')\n",
    "plt.ylabel('Evaluation 2')\n",
    "plt.legend([pscatt, nscatt], ['Diseased', 'Not Diseased'], loc=\"lower center\", ncol=2)\n",
    "plt.title('Scatter Plot of Training Examples')\n",
    "x_min, x_max = X[:,0].min() - 10, X[:,0].max() + 10\n",
    "y_min, y_max = X[:,1].min() - 25, X[:,1].max() + 20\n",
    "plt.xlim(x_min, x_max)\n",
    "plt.ylim(y_min, y_max)\n",
    "\n",
    "plt.show()\n",
    "plt.close()"
   ]
  },
  {
   "cell_type": "code",
   "execution_count": 20,
   "metadata": {
    "collapsed": false,
    "scrolled": true
   },
   "outputs": [
    {
     "name": "stdout",
     "output_type": "stream",
     "text": [
      "Statistics of 'Evaluation 1': (Numbers are rounded for easy reading) \n",
      "\n",
      "The mean is 65.\n",
      "The standard deviation is 20.\n",
      "The range is 30 to 99.\n"
     ]
    }
   ],
   "source": [
    "print \"Statistics of 'Evaluation 1': (Numbers are rounded for easy reading) \\n\"\n",
    "mu1 = np.mean(X[:,0])\n",
    "print \"The mean is %i.\" %mu1\n",
    "s1 = np.std(X[:,0])\n",
    "print \"The standard deviation is %i.\" %s1\n",
    "[min1, max1] = [np.min(X[:,0]), np.max(X[:,0])]\n",
    "print \"The range is %i to %i.\" %(min1,max1)"
   ]
  },
  {
   "cell_type": "code",
   "execution_count": 21,
   "metadata": {
    "collapsed": false
   },
   "outputs": [
    {
     "name": "stdout",
     "output_type": "stream",
     "text": [
      "Statistics of 'Evaluation 2': (Numbers are rounded for easy reading) \n",
      "\n",
      "The mean is 65.\n",
      "The standard deviation is 18.\n",
      "The range is 35 to 98.\n"
     ]
    }
   ],
   "source": [
    "print \"Statistics of 'Evaluation 2': (Numbers are rounded for easy reading) \\n\"\n",
    "mu2 = np.mean(X[:,1])\n",
    "print \"The mean is %i.\" %mu2\n",
    "s2 = np.std(X[:,1])\n",
    "print \"The standard deviation is %i.\" %s2\n",
    "[min2, max2] = [np.min(X[:,1]), np.max(X[:,1])]\n",
    "print \"The range is %i to %i.\" %(min2, max2)"
   ]
  },
  {
   "cell_type": "code",
   "execution_count": 22,
   "metadata": {
    "collapsed": false
   },
   "outputs": [
    {
     "data": {
      "image/png": "[encoded data removed]",
      "text/plain": [
       "<matplotlib.figure.Figure at 0x107c8e8d0>"
      ]
     },
     "metadata": {},
     "output_type": "display_data"
    },
    {
     "data": {
      "image/png": "[encoded data removed]",
      "text/plain": [
       "<matplotlib.figure.Figure at 0x107d75890>"
      ]
     },
     "metadata": {},
     "output_type": "display_data"
    }
   ],
   "source": [
    "# Histogram for 'Evaluation 1'\n",
    "plt.figure(1)\n",
    "\n",
    "# create parameters for histogram\n",
    "n, bins, patches = plt.hist(X[:,0], 20, normed=1, facecolor = 'g', cumulative=False)\n",
    "\n",
    "# plot options\n",
    "plt.xlabel('Evaluation 1')\n",
    "plt.ylabel('Relative Frequency')\n",
    "plt.title(\"Histogram of 'Evaluation 1'\")\n",
    "plt.axis([30, 100, 0, 0.05])\n",
    "plt.grid(True)\n",
    "\n",
    "# add a normal curve\n",
    "norms = mlab.normpdf(bins, mu1, s1)\n",
    "plt.plot(bins, norms, 'k--', linewidth=1)\n",
    "\n",
    "\n",
    "# Histogram for 'Evaluation 2'\n",
    "plt.figure(2)\n",
    "\n",
    "# create parameters for histogram\n",
    "n, bins, patches = plt.hist(X[:,1], 20, normed=1, facecolor = 'b', cumulative=False)\n",
    "\n",
    "# plot options\n",
    "plt.xlabel('Evaluation 2')\n",
    "plt.ylabel('Relative Frequency')\n",
    "plt.title(\"Histogram of 'Evaluation 2'\")\n",
    "plt.axis([30, 100, 0, 0.05])\n",
    "plt.grid(True)\n",
    "\n",
    "# add a normal curve\n",
    "norms = mlab.normpdf(bins, mu2, s2)\n",
    "plt.plot(bins, norms, 'k--', linewidth=1)\n",
    "\n",
    "\n",
    "plt.show()\n",
    "plt.close()"
   ]
  },
  {
   "cell_type": "code",
   "execution_count": 23,
   "metadata": {
    "collapsed": false
   },
   "outputs": [
    {
     "data": {
      "image/png": "[encoded data removed]",
      "text/plain": [
       "<matplotlib.figure.Figure at 0x107b42e50>"
      ]
     },
     "metadata": {},
     "output_type": "display_data"
    }
   ],
   "source": [
    "# boxplots of 'Evaluation 1' and 'Evaluation 2'\n",
    "plt.figure()\n",
    "\n",
    "bp = plt.boxplot(X, notch=True, showmeans=True, vert=False, labels=['Evaluation 1', 'Evaluation 2'], patch_artist=True)\n",
    "colors=['green', 'blue']\n",
    "\n",
    "for patch, color in zip(bp['boxes'], colors):\n",
    "    patch.set_facecolor(color)\n",
    "\n",
    "plt.title(\"Boxplots of 'Evaluation 1' and 'Evaluation 2'\")    \n",
    "plt.show()\n",
    "plt.close()"
   ]
  },
  {
   "cell_type": "code",
   "execution_count": 24,
   "metadata": {
    "collapsed": true
   },
   "outputs": [],
   "source": [
    "logreg = linear_model.LogisticRegression(C=1.0e2) # logistic regression model with specified C (regularization)"
   ]
  },
  {
   "cell_type": "code",
   "execution_count": 25,
   "metadata": {
    "collapsed": false
   },
   "outputs": [
    {
     "data": {
      "text/plain": [
       "LogisticRegression(C=100.0, class_weight=None, dual=False, fit_intercept=True,\n",
       "          intercept_scaling=1, penalty='l2', random_state=None, tol=0.0001)"
      ]
     },
     "execution_count": 25,
     "metadata": {},
     "output_type": "execute_result"
    }
   ],
   "source": [
    "logreg.fit(X,y) # fit logistic regression model"
   ]
  },
  {
   "cell_type": "code",
   "execution_count": 26,
   "metadata": {
    "collapsed": false
   },
   "outputs": [
    {
     "name": "stdout",
     "output_type": "stream",
     "text": [
      "The training accuracy is 90%.\n",
      "Good.\n"
     ]
    }
   ],
   "source": [
    "ta = logreg.score(X,y) # training accuracy\n",
    "ta = ta * 100 # convert to percentage\n",
    "\n",
    "print \"The training accuracy is %i%%.\" %ta\n",
    "\n",
    "if ta >= 90:\n",
    "    comment1 = \"Good.\"\n",
    "elif ta >= 85:\n",
    "    comment1 = \"Not bad.\"\n",
    "elif ta >= 75:\n",
    "    comment1 = \"A bit low.\"\n",
    "else:\n",
    "    comment1 = \"Very low.\"\n",
    "\n",
    "print \"%s\" %comment1 "
   ]
  },
  {
   "cell_type": "code",
   "execution_count": 27,
   "metadata": {
    "collapsed": false
   },
   "outputs": [
    {
     "name": "stdout",
     "output_type": "stream",
     "text": [
      "The cross validation accuracy is 92%.\n",
      "Good.\n"
     ]
    }
   ],
   "source": [
    "cva = logreg.score(Xcv,ycv) # cross validation accuracy\n",
    "cva = cva * 100 # convert to percentage\n",
    "\n",
    "print \"The cross validation accuracy is %i%%.\" %cva \n",
    "\n",
    "if cva >= 90:\n",
    "    comment2 =  \"Good.\"\n",
    "elif cva >= 85:\n",
    "    comment2 = \"Not bad.\"\n",
    "elif cva >= 75:\n",
    "    comment2 = \"A bit low.\"\n",
    "else:\n",
    "    comment2 = \"Very low.\"\n",
    "    \n",
    "print \"%s\" %comment2 "
   ]
  },
  {
   "cell_type": "code",
   "execution_count": 28,
   "metadata": {
    "collapsed": false
   },
   "outputs": [
    {
     "data": {
      "image/png": "[encoded data removed]",
      "text/plain": [
       "<matplotlib.figure.Figure at 0x10805a8d0>"
      ]
     },
     "metadata": {},
     "output_type": "display_data"
    },
    {
     "data": {
      "image/png": "[encoded data removed]",
      "text/plain": [
       "<matplotlib.figure.Figure at 0x1087d0950>"
      ]
     },
     "metadata": {},
     "output_type": "display_data"
    }
   ],
   "source": [
    "# Plot for Training Examples and Cross Validation Examples\n",
    "\n",
    "# step size in the mesh (make sure that h > 0.1)\n",
    "h = .3 \n",
    "\n",
    "# plot the decision boundary by assigning a color to each point in the mesh\n",
    "x_min, x_max = X[:,0].min() - 10, X[:,0].max() + 10\n",
    "y_min, y_max = X[:,1].min() - 25, X[:,1].max() + 20\n",
    "xx, yy = np.meshgrid(np.arange(x_min, x_max, h), np.arange(y_min, y_max, h))\n",
    "Z = logreg.predict(np.c_[xx.ravel(), yy.ravel()])\n",
    "Z = Z.reshape(xx.shape)\n",
    "\n",
    "# Plot the training points\n",
    "plt.figure(1)\n",
    "plt.pcolormesh(xx, yy, Z, cmap=plt.cm.Paired)\n",
    "pscatt = plt.scatter(pos[:,0], pos[:,1], color = 'c', marker = 'o', edgecolors='k')\n",
    "nscatt = plt.scatter(neg[:,0], neg[:,1], color = 'm', marker = 'o', edgecolors='k')\n",
    "plt.xlabel('Evaluation 1')\n",
    "plt.ylabel('Evaluation 2')\n",
    "plt.legend([pscatt, nscatt], ['Diseased', 'Not Diseased'], loc=\"lower left\", ncol=2)\n",
    "plt.title('Training Examples with Decision Boundary \\n Prediction Accuracy: %i%% (%s)' %(ta, comment1))\n",
    "plt.xlim(xx.min(), xx.max())\n",
    "plt.ylim(yy.min(), yy.max())\n",
    "\n",
    "# Plot the cv points\n",
    "plt.figure(2)\n",
    "plt.pcolormesh(xx, yy, Z, cmap=plt.cm.Paired)\n",
    "pscatt = plt.scatter(poscv[:,0], poscv[:,1], color = 'c', marker = 's', edgecolors='k')\n",
    "nscatt = plt.scatter(negcv[:,0], negcv[:,1], color = 'm', marker = 's', edgecolors='k')\n",
    "plt.xlabel('Evaluation 1')\n",
    "plt.ylabel('Evaluation 2')\n",
    "plt.legend([pscatt, nscatt], ['Diseased', 'Not Diseased'], loc=\"lower left\", ncol=2)\n",
    "plt.title('Cross Validation Examples with Decision Boundary \\n Prediction Accuracy: %i%% (%s)' %(cva, comment2))\n",
    "plt.xlim(xx.min(), xx.max())\n",
    "plt.ylim(yy.min(), yy.max())\n",
    "\n",
    "plt.show()\n",
    "plt.close()"
   ]
  }
 ],
 "metadata": {
  "kernelspec": {
   "display_name": "Python 2",
   "language": "python",
   "name": "python2"
  },
  "language_info": {
   "codemirror_mode": {
    "name": "ipython",
    "version": 2
   },
   "file_extension": ".py",
   "mimetype": "text/x-python",
   "name": "python",
   "nbconvert_exporter": "python",
   "pygments_lexer": "ipython2",
   "version": "2.7.9"
  }
 },
 "nbformat": 4,
 "nbformat_minor": 0
}
